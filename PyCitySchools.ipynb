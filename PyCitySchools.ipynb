{
 "cells": [
  {
   "cell_type": "markdown",
   "metadata": {},
   "source": [
    "# PyCity Schools Analysis\n",
    "\n",
    "* As a whole, schools with higher budgets, did not yield better test results. By contrast, schools with higher spending per student actually (\\$645-675) underperformed compared to schools with smaller budgets (<\\$585 per student).\n",
    "\n",
    "* As a whole, smaller and medium sized schools dramatically out-performed large sized schools on passing math performances (89-91% passing vs 67%).\n",
    "\n",
    "* As a whole, charter schools out-performed the public district schools across all metrics. However, more analysis will be required to glean if the effect is due to school practices or the fact that charter schools tend to serve smaller student populations per school. \n",
    "---"
   ]
  },
  {
   "cell_type": "markdown",
   "metadata": {},
   "source": [
    "### Note\n",
    "* Instructions have been included for each segment. You do not have to follow them exactly, but they are included to help you think through the steps."
   ]
  },
  {
   "cell_type": "markdown",
   "metadata": {},
   "source": [
    "\n",
    "District Summary\n",
    "\n",
    "Calculate the total number of schools\n",
    "Calculate the total number of students\n",
    "Calculate the total budget\n",
    "Calculate the average math score \n",
    "Calculate the average reading score\n",
    "Calculate the overall passing rate (overall average score), i.e. (avg. math score + avg. reading score)/2\n",
    "Calculate the percentage of students with a passing math score (70 or greater)\n",
    "Calculate the percentage of students with a passing reading score (70 or greater)\n",
    "Create a dataframe to hold the above results\n",
    "Optional: give the displayed data cleaner formatting"
   ]
  },
  {
   "cell_type": "code",
   "execution_count": 248,
   "metadata": {},
   "outputs": [
    {
     "data": {
      "text/html": [
       "<div>\n",
       "<style scoped>\n",
       "    .dataframe tbody tr th:only-of-type {\n",
       "        vertical-align: middle;\n",
       "    }\n",
       "\n",
       "    .dataframe tbody tr th {\n",
       "        vertical-align: top;\n",
       "    }\n",
       "\n",
       "    .dataframe thead th {\n",
       "        text-align: right;\n",
       "    }\n",
       "</style>\n",
       "<table border=\"1\" class=\"dataframe\">\n",
       "  <thead>\n",
       "    <tr style=\"text-align: right;\">\n",
       "      <th></th>\n",
       "      <th>Student ID</th>\n",
       "      <th>student_name</th>\n",
       "      <th>gender</th>\n",
       "      <th>grade</th>\n",
       "      <th>school_name</th>\n",
       "      <th>reading_score</th>\n",
       "      <th>math_score</th>\n",
       "      <th>School ID</th>\n",
       "      <th>type</th>\n",
       "      <th>size</th>\n",
       "      <th>budget</th>\n",
       "    </tr>\n",
       "  </thead>\n",
       "  <tbody>\n",
       "    <tr>\n",
       "      <th>0</th>\n",
       "      <td>0</td>\n",
       "      <td>Paul Bradley</td>\n",
       "      <td>M</td>\n",
       "      <td>9th</td>\n",
       "      <td>Huang High School</td>\n",
       "      <td>66</td>\n",
       "      <td>79</td>\n",
       "      <td>0</td>\n",
       "      <td>District</td>\n",
       "      <td>2917</td>\n",
       "      <td>1910635</td>\n",
       "    </tr>\n",
       "    <tr>\n",
       "      <th>1</th>\n",
       "      <td>1</td>\n",
       "      <td>Victor Smith</td>\n",
       "      <td>M</td>\n",
       "      <td>12th</td>\n",
       "      <td>Huang High School</td>\n",
       "      <td>94</td>\n",
       "      <td>61</td>\n",
       "      <td>0</td>\n",
       "      <td>District</td>\n",
       "      <td>2917</td>\n",
       "      <td>1910635</td>\n",
       "    </tr>\n",
       "    <tr>\n",
       "      <th>2</th>\n",
       "      <td>2</td>\n",
       "      <td>Kevin Rodriguez</td>\n",
       "      <td>M</td>\n",
       "      <td>12th</td>\n",
       "      <td>Huang High School</td>\n",
       "      <td>90</td>\n",
       "      <td>60</td>\n",
       "      <td>0</td>\n",
       "      <td>District</td>\n",
       "      <td>2917</td>\n",
       "      <td>1910635</td>\n",
       "    </tr>\n",
       "    <tr>\n",
       "      <th>3</th>\n",
       "      <td>3</td>\n",
       "      <td>Dr. Richard Scott</td>\n",
       "      <td>M</td>\n",
       "      <td>12th</td>\n",
       "      <td>Huang High School</td>\n",
       "      <td>67</td>\n",
       "      <td>58</td>\n",
       "      <td>0</td>\n",
       "      <td>District</td>\n",
       "      <td>2917</td>\n",
       "      <td>1910635</td>\n",
       "    </tr>\n",
       "    <tr>\n",
       "      <th>4</th>\n",
       "      <td>4</td>\n",
       "      <td>Bonnie Ray</td>\n",
       "      <td>F</td>\n",
       "      <td>9th</td>\n",
       "      <td>Huang High School</td>\n",
       "      <td>97</td>\n",
       "      <td>84</td>\n",
       "      <td>0</td>\n",
       "      <td>District</td>\n",
       "      <td>2917</td>\n",
       "      <td>1910635</td>\n",
       "    </tr>\n",
       "  </tbody>\n",
       "</table>\n",
       "</div>"
      ],
      "text/plain": [
       "   Student ID       student_name gender grade        school_name  \\\n",
       "0           0       Paul Bradley      M   9th  Huang High School   \n",
       "1           1       Victor Smith      M  12th  Huang High School   \n",
       "2           2    Kevin Rodriguez      M  12th  Huang High School   \n",
       "3           3  Dr. Richard Scott      M  12th  Huang High School   \n",
       "4           4         Bonnie Ray      F   9th  Huang High School   \n",
       "\n",
       "   reading_score  math_score  School ID      type  size   budget  \n",
       "0             66          79          0  District  2917  1910635  \n",
       "1             94          61          0  District  2917  1910635  \n",
       "2             90          60          0  District  2917  1910635  \n",
       "3             67          58          0  District  2917  1910635  \n",
       "4             97          84          0  District  2917  1910635  "
      ]
     },
     "execution_count": 248,
     "metadata": {},
     "output_type": "execute_result"
    }
   ],
   "source": [
    "# Dependencies and Setup\n",
    "import pandas as pd\n",
    "import numpy as np\n",
    "\n",
    "# File to Load \n",
    "school_data_path = \"Resources/schools_complete.csv\"\n",
    "student_data_path = \"Resources/students_complete.csv\"\n",
    "\n",
    "# Read School and Student Data File and store into Pandas Data Frames\n",
    "school_data_df = pd.read_csv(school_data_path)\n",
    "student_data_df = pd.read_csv(student_data_path)\n",
    "\n",
    "# Combine the data into a single dataset\n",
    "school_merge_df = pd.merge(student_data_df, school_data_df, how=\"left\", on=[\"school_name\", \"school_name\"])\n",
    "\n",
    "school_merge_df.head()"
   ]
  },
  {
   "cell_type": "code",
   "execution_count": 249,
   "metadata": {},
   "outputs": [
    {
     "data": {
      "text/html": [
       "<div>\n",
       "<style scoped>\n",
       "    .dataframe tbody tr th:only-of-type {\n",
       "        vertical-align: middle;\n",
       "    }\n",
       "\n",
       "    .dataframe tbody tr th {\n",
       "        vertical-align: top;\n",
       "    }\n",
       "\n",
       "    .dataframe thead th {\n",
       "        text-align: right;\n",
       "    }\n",
       "</style>\n",
       "<table border=\"1\" class=\"dataframe\">\n",
       "  <thead>\n",
       "    <tr style=\"text-align: right;\">\n",
       "      <th></th>\n",
       "      <th>Student ID</th>\n",
       "      <th>Student Name</th>\n",
       "      <th>Gender</th>\n",
       "      <th>Grade</th>\n",
       "      <th>School Name</th>\n",
       "      <th>Reading Score</th>\n",
       "      <th>Math Score</th>\n",
       "      <th>School ID</th>\n",
       "      <th>Type of School</th>\n",
       "      <th>Size of School</th>\n",
       "      <th>Budget</th>\n",
       "    </tr>\n",
       "  </thead>\n",
       "  <tbody>\n",
       "    <tr>\n",
       "      <th>0</th>\n",
       "      <td>0</td>\n",
       "      <td>Paul Bradley</td>\n",
       "      <td>M</td>\n",
       "      <td>9th</td>\n",
       "      <td>Huang High School</td>\n",
       "      <td>66</td>\n",
       "      <td>79</td>\n",
       "      <td>0</td>\n",
       "      <td>District</td>\n",
       "      <td>2917</td>\n",
       "      <td>1910635</td>\n",
       "    </tr>\n",
       "    <tr>\n",
       "      <th>1</th>\n",
       "      <td>1</td>\n",
       "      <td>Victor Smith</td>\n",
       "      <td>M</td>\n",
       "      <td>12th</td>\n",
       "      <td>Huang High School</td>\n",
       "      <td>94</td>\n",
       "      <td>61</td>\n",
       "      <td>0</td>\n",
       "      <td>District</td>\n",
       "      <td>2917</td>\n",
       "      <td>1910635</td>\n",
       "    </tr>\n",
       "    <tr>\n",
       "      <th>2</th>\n",
       "      <td>2</td>\n",
       "      <td>Kevin Rodriguez</td>\n",
       "      <td>M</td>\n",
       "      <td>12th</td>\n",
       "      <td>Huang High School</td>\n",
       "      <td>90</td>\n",
       "      <td>60</td>\n",
       "      <td>0</td>\n",
       "      <td>District</td>\n",
       "      <td>2917</td>\n",
       "      <td>1910635</td>\n",
       "    </tr>\n",
       "    <tr>\n",
       "      <th>3</th>\n",
       "      <td>3</td>\n",
       "      <td>Dr. Richard Scott</td>\n",
       "      <td>M</td>\n",
       "      <td>12th</td>\n",
       "      <td>Huang High School</td>\n",
       "      <td>67</td>\n",
       "      <td>58</td>\n",
       "      <td>0</td>\n",
       "      <td>District</td>\n",
       "      <td>2917</td>\n",
       "      <td>1910635</td>\n",
       "    </tr>\n",
       "    <tr>\n",
       "      <th>4</th>\n",
       "      <td>4</td>\n",
       "      <td>Bonnie Ray</td>\n",
       "      <td>F</td>\n",
       "      <td>9th</td>\n",
       "      <td>Huang High School</td>\n",
       "      <td>97</td>\n",
       "      <td>84</td>\n",
       "      <td>0</td>\n",
       "      <td>District</td>\n",
       "      <td>2917</td>\n",
       "      <td>1910635</td>\n",
       "    </tr>\n",
       "  </tbody>\n",
       "</table>\n",
       "</div>"
      ],
      "text/plain": [
       "   Student ID       Student Name Gender Grade        School Name  \\\n",
       "0           0       Paul Bradley      M   9th  Huang High School   \n",
       "1           1       Victor Smith      M  12th  Huang High School   \n",
       "2           2    Kevin Rodriguez      M  12th  Huang High School   \n",
       "3           3  Dr. Richard Scott      M  12th  Huang High School   \n",
       "4           4         Bonnie Ray      F   9th  Huang High School   \n",
       "\n",
       "   Reading Score  Math Score  School ID Type of School  Size of School  \\\n",
       "0             66          79          0       District            2917   \n",
       "1             94          61          0       District            2917   \n",
       "2             90          60          0       District            2917   \n",
       "3             67          58          0       District            2917   \n",
       "4             97          84          0       District            2917   \n",
       "\n",
       "    Budget  \n",
       "0  1910635  \n",
       "1  1910635  \n",
       "2  1910635  \n",
       "3  1910635  \n",
       "4  1910635  "
      ]
     },
     "execution_count": 249,
     "metadata": {},
     "output_type": "execute_result"
    }
   ],
   "source": [
    "# Rename de Header\n",
    "\n",
    "school_merge_rn_df= school_merge_df.rename(columns={\n",
    "\"Student ID\": \"Student ID\",\n",
    "\"student_name\": \"Student Name\",\n",
    "\"gender\": \"Gender\",\n",
    "\"grade\": \"Grade\",\n",
    "\"school_name\": \"School Name\",\n",
    "\"reading_score\": \"Reading Score\",\n",
    "\"math_score\": \"Math Score\",\n",
    "\"School ID\": \"School ID\",\n",
    "\"type\": \"Type of School\",\n",
    "\"size\": \"Size of School\",\n",
    "\"budget\": \"Budget\"\n",
    "})\n",
    "\n",
    "#lets verify our new header\n",
    "school_merge_rn_df.head()"
   ]
  },
  {
   "cell_type": "code",
   "execution_count": 250,
   "metadata": {},
   "outputs": [
    {
     "data": {
      "text/plain": [
       "Student ID        39170\n",
       "Student Name      39170\n",
       "Gender            39170\n",
       "Grade             39170\n",
       "School Name       39170\n",
       "Reading Score     39170\n",
       "Math Score        39170\n",
       "School ID         39170\n",
       "Type of School    39170\n",
       "Size of School    39170\n",
       "Budget            39170\n",
       "dtype: int64"
      ]
     },
     "execution_count": 250,
     "metadata": {},
     "output_type": "execute_result"
    }
   ],
   "source": [
    "# verify that is not empty cells\n",
    "school_merge_rn_df.count()"
   ]
  },
  {
   "cell_type": "code",
   "execution_count": 251,
   "metadata": {},
   "outputs": [
    {
     "data": {
      "text/plain": [
       "Student ID         int64\n",
       "Student Name      object\n",
       "Gender            object\n",
       "Grade             object\n",
       "School Name       object\n",
       "Reading Score      int64\n",
       "Math Score         int64\n",
       "School ID          int64\n",
       "Type of School    object\n",
       "Size of School     int64\n",
       "Budget             int64\n",
       "dtype: object"
      ]
     },
     "execution_count": 251,
     "metadata": {},
     "output_type": "execute_result"
    }
   ],
   "source": [
    "# verify the types of the each column\n",
    "school_merge_rn_df.dtypes"
   ]
  },
  {
   "cell_type": "code",
   "execution_count": 252,
   "metadata": {},
   "outputs": [
    {
     "data": {
      "text/plain": [
       "15"
      ]
     },
     "execution_count": 252,
     "metadata": {},
     "output_type": "execute_result"
    }
   ],
   "source": [
    "# Calculate the total number of schools\n",
    "# the Fancy way should be with shape[0]\n",
    "\n",
    "total_number_of_schools= len(school_merge_rn_df[\"School Name\"].unique())\n",
    "total_number_of_schools"
   ]
  },
  {
   "cell_type": "code",
   "execution_count": 253,
   "metadata": {},
   "outputs": [
    {
     "data": {
      "text/plain": [
       "39170"
      ]
     },
     "execution_count": 253,
     "metadata": {},
     "output_type": "execute_result"
    }
   ],
   "source": [
    "# Calculate the total number of students\n",
    "\n",
    "total_students= school_merge_rn_df[\"Student Name\"].count()\n",
    "total_students"
   ]
  },
  {
   "cell_type": "code",
   "execution_count": 254,
   "metadata": {},
   "outputs": [
    {
     "data": {
      "text/plain": [
       "24649428.0"
      ]
     },
     "execution_count": 254,
     "metadata": {},
     "output_type": "execute_result"
    }
   ],
   "source": [
    "# Calculate the total budget \n",
    "\n",
    "# School Name and Type [\"Type of School\"]\n",
    "\n",
    "school_gb = school_merge_rn_df.set_index(\"School Name\").groupby([\"School Name\"])\n",
    "\n",
    "school_type = school_data_df.set_index(\"school_name\")[\"type\"]\n",
    "\n",
    "# Total Students per School\n",
    "\n",
    "students_gb = school_gb .count()[\"Student ID\"]\n",
    "students_gb\n",
    "\n",
    "budget_gb = school_gb.mean()[\"Budget\"]\n",
    "budget_gb\n",
    "\n",
    "total_budget = budget_gb.sum()\n",
    "total_budget\n",
    "\n",
    "\n",
    "\n",
    "# I was using this: total_budget= school_merge_rn_df[\"Budget\"].unique().sum() but if many schools have the same budget will be not considered.\n",
    "\n"
   ]
  },
  {
   "cell_type": "code",
   "execution_count": 255,
   "metadata": {},
   "outputs": [
    {
     "data": {
      "text/plain": [
       "78.99"
      ]
     },
     "execution_count": 255,
     "metadata": {},
     "output_type": "execute_result"
    }
   ],
   "source": [
    "# Calculate the average math score\n",
    "\n",
    "math_average_score =round(school_merge_rn_df[\"Math Score\"].mean(),2)\n",
    "math_average_score"
   ]
  },
  {
   "cell_type": "code",
   "execution_count": 256,
   "metadata": {},
   "outputs": [
    {
     "data": {
      "text/plain": [
       "81.88"
      ]
     },
     "execution_count": 256,
     "metadata": {},
     "output_type": "execute_result"
    }
   ],
   "source": [
    "# Calculate the average reading score\n",
    "reading_average_score =round(school_merge_rn_df[\"Reading Score\"].mean(),2)\n",
    "reading_average_score"
   ]
  },
  {
   "cell_type": "code",
   "execution_count": 257,
   "metadata": {},
   "outputs": [
    {
     "data": {
      "text/plain": [
       "80.44"
      ]
     },
     "execution_count": 257,
     "metadata": {},
     "output_type": "execute_result"
    }
   ],
   "source": [
    "# Calculate the overall passing rate (overall average score), i.e. (avg. math score + avg. reading score)/2\n",
    "\n",
    "overall_average_score =round((math_average_score + reading_average_score)/2 ,2)\n",
    "overall_average_score"
   ]
  },
  {
   "cell_type": "code",
   "execution_count": 258,
   "metadata": {},
   "outputs": [
    {
     "data": {
      "text/plain": [
       "74.98"
      ]
     },
     "execution_count": 258,
     "metadata": {},
     "output_type": "execute_result"
    }
   ],
   "source": [
    "# Calculate the percentage of students with a passing math score (70 or greater)\n",
    "\n",
    "passing_math_students = len(school_merge_rn_df.loc[school_merge_rn_df[\"Math Score\"]>= 70,:])\n",
    "\n",
    "total_math_students = school_merge_rn_df[\"Math Score\"].count()\n",
    "\n",
    "percentage_passing_math_students = round( (passing_math_students / total_math_students * 100), 2)\n",
    "\n",
    "percentage_passing_math_students"
   ]
  },
  {
   "cell_type": "code",
   "execution_count": 259,
   "metadata": {},
   "outputs": [
    {
     "data": {
      "text/plain": [
       "85.81"
      ]
     },
     "execution_count": 259,
     "metadata": {},
     "output_type": "execute_result"
    }
   ],
   "source": [
    "# Calculate the percentage of students with a passing reading score (70 or greater\n",
    "passing_reading_students = len(school_merge_rn_df.loc[school_merge_rn_df[\"Reading Score\"]>= 70,:])\n",
    "\n",
    "total_reading_students = school_merge_rn_df[\"Reading Score\"].count()\n",
    "\n",
    "percentage_passing_reading_students = round( (passing_reading_students / total_reading_students * 100), 2)\n",
    "\n",
    "percentage_passing_reading_students"
   ]
  },
  {
   "cell_type": "code",
   "execution_count": 260,
   "metadata": {},
   "outputs": [
    {
     "data": {
      "text/html": [
       "<div>\n",
       "<style scoped>\n",
       "    .dataframe tbody tr th:only-of-type {\n",
       "        vertical-align: middle;\n",
       "    }\n",
       "\n",
       "    .dataframe tbody tr th {\n",
       "        vertical-align: top;\n",
       "    }\n",
       "\n",
       "    .dataframe thead th {\n",
       "        text-align: right;\n",
       "    }\n",
       "</style>\n",
       "<table border=\"1\" class=\"dataframe\">\n",
       "  <thead>\n",
       "    <tr style=\"text-align: right;\">\n",
       "      <th></th>\n",
       "      <th>% Passing Math</th>\n",
       "      <th>% Passing Reading</th>\n",
       "      <th>Average Math Score</th>\n",
       "      <th>Average Reading Score</th>\n",
       "      <th>Overall Passing Rate</th>\n",
       "      <th>Total Budget</th>\n",
       "      <th>Total Schools</th>\n",
       "      <th>Total Students</th>\n",
       "    </tr>\n",
       "  </thead>\n",
       "  <tbody>\n",
       "    <tr>\n",
       "      <th>0</th>\n",
       "      <td>% 74.98</td>\n",
       "      <td>% 85.81</td>\n",
       "      <td>78.99</td>\n",
       "      <td>81.88</td>\n",
       "      <td>80.44</td>\n",
       "      <td>24649428.0</td>\n",
       "      <td>15</td>\n",
       "      <td>39170</td>\n",
       "    </tr>\n",
       "  </tbody>\n",
       "</table>\n",
       "</div>"
      ],
      "text/plain": [
       "  % Passing Math % Passing Reading  Average Math Score  Average Reading Score  \\\n",
       "0        % 74.98           % 85.81               78.99                  81.88   \n",
       "\n",
       "   Overall Passing Rate  Total Budget  Total Schools  Total Students  \n",
       "0                 80.44    24649428.0             15           39170  "
      ]
     },
     "execution_count": 260,
     "metadata": {},
     "output_type": "execute_result"
    }
   ],
   "source": [
    "# Create a dataframe to hold the above results\n",
    "\n",
    "results_dict= [{\n",
    "        \"Total Schools\": total_number_of_schools,\n",
    "        \"Total Students\": total_students,\n",
    "        \"Total Budget\": total_budget,\n",
    "        \"Average Math Score\": math_average_score,\n",
    "        \"Average Reading Score\": reading_average_score,\n",
    "        \"% Passing Math\":f\"% {percentage_passing_math_students}\",\n",
    "        \"% Passing Reading\": f\"% {percentage_passing_reading_students}\",\n",
    "        \"Overall Passing Rate\": overall_average_score\n",
    "    \n",
    "}]\n",
    "\n",
    "\n",
    "results_df= pd.DataFrame(results_dict)\n",
    "\n",
    "\n",
    "results_df.head()"
   ]
  },
  {
   "cell_type": "code",
   "execution_count": null,
   "metadata": {},
   "outputs": [],
   "source": []
  },
  {
   "cell_type": "markdown",
   "metadata": {},
   "source": [
    "## School Summary"
   ]
  },
  {
   "cell_type": "markdown",
   "metadata": {},
   "source": [
    "* Create an overview table that summarizes key metrics about each school, including:\n",
    "  * School Name\n",
    "  * School Type\n",
    "  * Total Students\n",
    "  * Total School Budget\n",
    "  * Per Student Budget\n",
    "  * Average Math Score\n",
    "  * Average Reading Score\n",
    "  * % Passing Math\n",
    "  * % Passing Reading\n",
    "  * Overall Passing Rate (Average of the above two)\n",
    "  \n",
    "* Create a dataframe to hold the above results"
   ]
  },
  {
   "cell_type": "code",
   "execution_count": 261,
   "metadata": {},
   "outputs": [],
   "source": [
    "# School Summary.\n",
    "\n",
    "# School Name and Type [\"Type of School\"]\n",
    "\n",
    "school_gb = school_merge_rn_df.set_index(\"School Name\").groupby([\"School Name\"])\n",
    "\n",
    "school_type = school_data_df.set_index(\"school_name\")[\"type\"]"
   ]
  },
  {
   "cell_type": "code",
   "execution_count": 262,
   "metadata": {},
   "outputs": [],
   "source": [
    "# if you prefer you can print school_type to verify our data Frame\n"
   ]
  },
  {
   "cell_type": "code",
   "execution_count": 263,
   "metadata": {},
   "outputs": [],
   "source": [
    "# Total Students per School\n",
    "\n",
    "students_gb = school_gb .count()[\"Student ID\"]\n",
    "# print students_gb\n"
   ]
  },
  {
   "cell_type": "code",
   "execution_count": 264,
   "metadata": {},
   "outputs": [],
   "source": [
    "# Total Budget per School\n",
    "\n",
    "budget_gb = school_gb.mean()[\"Budget\"]\n",
    "# print budget_gb\n"
   ]
  },
  {
   "cell_type": "code",
   "execution_count": 265,
   "metadata": {},
   "outputs": [],
   "source": [
    "# Budget per Student\n",
    "\n",
    "budget_student = budget_gb / students_gb\n",
    "# print budget_student"
   ]
  },
  {
   "cell_type": "code",
   "execution_count": 266,
   "metadata": {},
   "outputs": [],
   "source": [
    "# Average Math Score\n",
    "\n",
    "math_score_average = school_gb.mean()[\"Math Score\"]\n",
    "\n",
    "\n",
    "# Average Reading Score\n",
    "\n",
    "reading_score_average = school_gb.mean()[\"Reading Score\"]\n"
   ]
  },
  {
   "cell_type": "code",
   "execution_count": 267,
   "metadata": {},
   "outputs": [],
   "source": [
    "# % Passing Math \n",
    "\n",
    "passing_math_st_school = school_merge_rn_df.loc[school_merge_rn_df[\"Math Score\"]>= 70,:].groupby([\"School Name\"]).count()\n",
    "percentage_passing_math_students_school = (passing_math_st_school[\"Math Score\"]/ students_gb)*100\n",
    "#percentage_passing_math_students_school\n"
   ]
  },
  {
   "cell_type": "code",
   "execution_count": 268,
   "metadata": {},
   "outputs": [],
   "source": [
    "# % Passing Reading \n",
    "passing_reading_st_school = school_merge_rn_df.loc[school_merge_rn_df[\"Reading Score\"]>= 70,:].groupby([\"School Name\"]).count()\n",
    "percentage_passing_reading_students_school = (passing_reading_st_school[\"Reading Score\"] / students_gb)*100\n",
    "\n",
    "#percentage_passing_reading_students_school\n"
   ]
  },
  {
   "cell_type": "code",
   "execution_count": 269,
   "metadata": {},
   "outputs": [],
   "source": [
    "# Calculate the overall passing rate (overall average score), i.e. (avg. math score + avg. reading score)/2\n",
    "\n",
    "\n",
    "# overall_passing_rate_school =(math_score_average + reading_score_average)/2\n",
    "\n",
    "overall_passing_rate_school =(percentage_passing_math_students_school + percentage_passing_reading_students_school)/2\n",
    "#overall_passing_rate_school"
   ]
  },
  {
   "cell_type": "code",
   "execution_count": 271,
   "metadata": {},
   "outputs": [
    {
     "data": {
      "text/html": [
       "<div>\n",
       "<style scoped>\n",
       "    .dataframe tbody tr th:only-of-type {\n",
       "        vertical-align: middle;\n",
       "    }\n",
       "\n",
       "    .dataframe tbody tr th {\n",
       "        vertical-align: top;\n",
       "    }\n",
       "\n",
       "    .dataframe thead th {\n",
       "        text-align: right;\n",
       "    }\n",
       "</style>\n",
       "<table border=\"1\" class=\"dataframe\">\n",
       "  <thead>\n",
       "    <tr style=\"text-align: right;\">\n",
       "      <th></th>\n",
       "      <th>Total Schools</th>\n",
       "      <th>Total Students</th>\n",
       "      <th>Total Budget</th>\n",
       "      <th>Budget per Student</th>\n",
       "      <th>Average Math Score</th>\n",
       "      <th>Average Reading Score</th>\n",
       "      <th>% Passing Math</th>\n",
       "      <th>% Passing Reading</th>\n",
       "      <th>Overall Passing Rate</th>\n",
       "    </tr>\n",
       "  </thead>\n",
       "  <tbody>\n",
       "    <tr>\n",
       "      <th>Bailey High School</th>\n",
       "      <td>District</td>\n",
       "      <td>4976</td>\n",
       "      <td>3124928.0</td>\n",
       "      <td>628.0</td>\n",
       "      <td>77.048432</td>\n",
       "      <td>81.033963</td>\n",
       "      <td>%66.68</td>\n",
       "      <td>%81.93</td>\n",
       "      <td>74.306672</td>\n",
       "    </tr>\n",
       "    <tr>\n",
       "      <th>Cabrera High School</th>\n",
       "      <td>Charter</td>\n",
       "      <td>1858</td>\n",
       "      <td>1081356.0</td>\n",
       "      <td>582.0</td>\n",
       "      <td>83.061895</td>\n",
       "      <td>83.975780</td>\n",
       "      <td>%94.13</td>\n",
       "      <td>%97.04</td>\n",
       "      <td>95.586652</td>\n",
       "    </tr>\n",
       "    <tr>\n",
       "      <th>Figueroa High School</th>\n",
       "      <td>District</td>\n",
       "      <td>2949</td>\n",
       "      <td>1884411.0</td>\n",
       "      <td>639.0</td>\n",
       "      <td>76.711767</td>\n",
       "      <td>81.158020</td>\n",
       "      <td>%65.99</td>\n",
       "      <td>%80.74</td>\n",
       "      <td>73.363852</td>\n",
       "    </tr>\n",
       "    <tr>\n",
       "      <th>Ford High School</th>\n",
       "      <td>District</td>\n",
       "      <td>2739</td>\n",
       "      <td>1763916.0</td>\n",
       "      <td>644.0</td>\n",
       "      <td>77.102592</td>\n",
       "      <td>80.746258</td>\n",
       "      <td>%68.31</td>\n",
       "      <td>%79.30</td>\n",
       "      <td>73.804308</td>\n",
       "    </tr>\n",
       "    <tr>\n",
       "      <th>Griffin High School</th>\n",
       "      <td>Charter</td>\n",
       "      <td>1468</td>\n",
       "      <td>917500.0</td>\n",
       "      <td>625.0</td>\n",
       "      <td>83.351499</td>\n",
       "      <td>83.816757</td>\n",
       "      <td>%93.39</td>\n",
       "      <td>%97.14</td>\n",
       "      <td>95.265668</td>\n",
       "    </tr>\n",
       "    <tr>\n",
       "      <th>Hernandez High School</th>\n",
       "      <td>District</td>\n",
       "      <td>4635</td>\n",
       "      <td>3022020.0</td>\n",
       "      <td>652.0</td>\n",
       "      <td>77.289752</td>\n",
       "      <td>80.934412</td>\n",
       "      <td>%66.75</td>\n",
       "      <td>%80.86</td>\n",
       "      <td>73.807983</td>\n",
       "    </tr>\n",
       "    <tr>\n",
       "      <th>Holden High School</th>\n",
       "      <td>Charter</td>\n",
       "      <td>427</td>\n",
       "      <td>248087.0</td>\n",
       "      <td>581.0</td>\n",
       "      <td>83.803279</td>\n",
       "      <td>83.814988</td>\n",
       "      <td>%92.51</td>\n",
       "      <td>%96.25</td>\n",
       "      <td>94.379391</td>\n",
       "    </tr>\n",
       "    <tr>\n",
       "      <th>Huang High School</th>\n",
       "      <td>District</td>\n",
       "      <td>2917</td>\n",
       "      <td>1910635.0</td>\n",
       "      <td>655.0</td>\n",
       "      <td>76.629414</td>\n",
       "      <td>81.182722</td>\n",
       "      <td>%65.68</td>\n",
       "      <td>%81.32</td>\n",
       "      <td>73.500171</td>\n",
       "    </tr>\n",
       "    <tr>\n",
       "      <th>Johnson High School</th>\n",
       "      <td>District</td>\n",
       "      <td>4761</td>\n",
       "      <td>3094650.0</td>\n",
       "      <td>650.0</td>\n",
       "      <td>77.072464</td>\n",
       "      <td>80.966394</td>\n",
       "      <td>%66.06</td>\n",
       "      <td>%81.22</td>\n",
       "      <td>73.639992</td>\n",
       "    </tr>\n",
       "    <tr>\n",
       "      <th>Pena High School</th>\n",
       "      <td>Charter</td>\n",
       "      <td>962</td>\n",
       "      <td>585858.0</td>\n",
       "      <td>609.0</td>\n",
       "      <td>83.839917</td>\n",
       "      <td>84.044699</td>\n",
       "      <td>%94.59</td>\n",
       "      <td>%95.95</td>\n",
       "      <td>95.270270</td>\n",
       "    </tr>\n",
       "    <tr>\n",
       "      <th>Rodriguez High School</th>\n",
       "      <td>District</td>\n",
       "      <td>3999</td>\n",
       "      <td>2547363.0</td>\n",
       "      <td>637.0</td>\n",
       "      <td>76.842711</td>\n",
       "      <td>80.744686</td>\n",
       "      <td>%66.37</td>\n",
       "      <td>%80.22</td>\n",
       "      <td>73.293323</td>\n",
       "    </tr>\n",
       "    <tr>\n",
       "      <th>Shelton High School</th>\n",
       "      <td>Charter</td>\n",
       "      <td>1761</td>\n",
       "      <td>1056600.0</td>\n",
       "      <td>600.0</td>\n",
       "      <td>83.359455</td>\n",
       "      <td>83.725724</td>\n",
       "      <td>%93.87</td>\n",
       "      <td>%95.85</td>\n",
       "      <td>94.860875</td>\n",
       "    </tr>\n",
       "    <tr>\n",
       "      <th>Thomas High School</th>\n",
       "      <td>Charter</td>\n",
       "      <td>1635</td>\n",
       "      <td>1043130.0</td>\n",
       "      <td>638.0</td>\n",
       "      <td>83.418349</td>\n",
       "      <td>83.848930</td>\n",
       "      <td>%93.27</td>\n",
       "      <td>%97.31</td>\n",
       "      <td>95.290520</td>\n",
       "    </tr>\n",
       "    <tr>\n",
       "      <th>Wilson High School</th>\n",
       "      <td>Charter</td>\n",
       "      <td>2283</td>\n",
       "      <td>1319574.0</td>\n",
       "      <td>578.0</td>\n",
       "      <td>83.274201</td>\n",
       "      <td>83.989488</td>\n",
       "      <td>%93.87</td>\n",
       "      <td>%96.54</td>\n",
       "      <td>95.203679</td>\n",
       "    </tr>\n",
       "    <tr>\n",
       "      <th>Wright High School</th>\n",
       "      <td>Charter</td>\n",
       "      <td>1800</td>\n",
       "      <td>1049400.0</td>\n",
       "      <td>583.0</td>\n",
       "      <td>83.682222</td>\n",
       "      <td>83.955000</td>\n",
       "      <td>%93.33</td>\n",
       "      <td>%96.61</td>\n",
       "      <td>94.972222</td>\n",
       "    </tr>\n",
       "  </tbody>\n",
       "</table>\n",
       "</div>"
      ],
      "text/plain": [
       "                      Total Schools  Total Students  Total Budget  \\\n",
       "Bailey High School         District            4976     3124928.0   \n",
       "Cabrera High School         Charter            1858     1081356.0   \n",
       "Figueroa High School       District            2949     1884411.0   \n",
       "Ford High School           District            2739     1763916.0   \n",
       "Griffin High School         Charter            1468      917500.0   \n",
       "Hernandez High School      District            4635     3022020.0   \n",
       "Holden High School          Charter             427      248087.0   \n",
       "Huang High School          District            2917     1910635.0   \n",
       "Johnson High School        District            4761     3094650.0   \n",
       "Pena High School            Charter             962      585858.0   \n",
       "Rodriguez High School      District            3999     2547363.0   \n",
       "Shelton High School         Charter            1761     1056600.0   \n",
       "Thomas High School          Charter            1635     1043130.0   \n",
       "Wilson High School          Charter            2283     1319574.0   \n",
       "Wright High School          Charter            1800     1049400.0   \n",
       "\n",
       "                       Budget per Student  Average Math Score  \\\n",
       "Bailey High School                  628.0           77.048432   \n",
       "Cabrera High School                 582.0           83.061895   \n",
       "Figueroa High School                639.0           76.711767   \n",
       "Ford High School                    644.0           77.102592   \n",
       "Griffin High School                 625.0           83.351499   \n",
       "Hernandez High School               652.0           77.289752   \n",
       "Holden High School                  581.0           83.803279   \n",
       "Huang High School                   655.0           76.629414   \n",
       "Johnson High School                 650.0           77.072464   \n",
       "Pena High School                    609.0           83.839917   \n",
       "Rodriguez High School               637.0           76.842711   \n",
       "Shelton High School                 600.0           83.359455   \n",
       "Thomas High School                  638.0           83.418349   \n",
       "Wilson High School                  578.0           83.274201   \n",
       "Wright High School                  583.0           83.682222   \n",
       "\n",
       "                       Average Reading Score % Passing Math % Passing Reading  \\\n",
       "Bailey High School                 81.033963         %66.68            %81.93   \n",
       "Cabrera High School                83.975780         %94.13            %97.04   \n",
       "Figueroa High School               81.158020         %65.99            %80.74   \n",
       "Ford High School                   80.746258         %68.31            %79.30   \n",
       "Griffin High School                83.816757         %93.39            %97.14   \n",
       "Hernandez High School              80.934412         %66.75            %80.86   \n",
       "Holden High School                 83.814988         %92.51            %96.25   \n",
       "Huang High School                  81.182722         %65.68            %81.32   \n",
       "Johnson High School                80.966394         %66.06            %81.22   \n",
       "Pena High School                   84.044699         %94.59            %95.95   \n",
       "Rodriguez High School              80.744686         %66.37            %80.22   \n",
       "Shelton High School                83.725724         %93.87            %95.85   \n",
       "Thomas High School                 83.848930         %93.27            %97.31   \n",
       "Wilson High School                 83.989488         %93.87            %96.54   \n",
       "Wright High School                 83.955000         %93.33            %96.61   \n",
       "\n",
       "                       Overall Passing Rate  \n",
       "Bailey High School                74.306672  \n",
       "Cabrera High School               95.586652  \n",
       "Figueroa High School              73.363852  \n",
       "Ford High School                  73.804308  \n",
       "Griffin High School               95.265668  \n",
       "Hernandez High School             73.807983  \n",
       "Holden High School                94.379391  \n",
       "Huang High School                 73.500171  \n",
       "Johnson High School               73.639992  \n",
       "Pena High School                  95.270270  \n",
       "Rodriguez High School             73.293323  \n",
       "Shelton High School               94.860875  \n",
       "Thomas High School                95.290520  \n",
       "Wilson High School                95.203679  \n",
       "Wright High School                94.972222  "
      ]
     },
     "execution_count": 271,
     "metadata": {},
     "output_type": "execute_result"
    }
   ],
   "source": [
    "# Create a dataframe to hold the above results\n",
    "\n",
    "results_schools_df = pd.DataFrame({\n",
    "        \"Total Schools\": school_type,\n",
    "        \"Total Students\": students_gb,\n",
    "        \"Total Budget\": budget_gb,\n",
    "        \"Budget per Student\": budget_student,\n",
    "        \"Average Math Score\": math_score_average,\n",
    "        \"Average Reading Score\": reading_score_average,\n",
    "        \"% Passing Math\":percentage_passing_math_students_school,\n",
    "        \"% Passing Reading\": percentage_passing_reading_students_school,\n",
    "        \"Overall Passing Rate\": overall_passing_rate_school\n",
    "    \n",
    "})\n",
    "\n",
    "results_schools_df[\"% Passing Reading\"]= results_schools_df[\"% Passing Reading\"].map(\"%{:.2f}\".format)\n",
    "results_schools_df[\"% Passing Math\"]= results_schools_df[\"% Passing Math\"].map(\"%{:.2f}\".format)\n",
    "\n",
    "# results_schools_df[\"Average Math Score\"]= results_schools_df[\"Average Math Score\"].map(\"{:.2f}\".format)\n",
    "# results_schools_df[\"Average Reading Score\"]= results_schools_df[\"Average Reading Score\"].map(\"{:.2f}\".format)\n",
    "# results_schools_df[\"Overall Passing Rate\"]= results_schools_df[\"Overall Passing Rate\"].map(\"{:.2f}\".format)\n",
    "# results_schools_df[\"Total Students\"]= results_schools_df[\"Total Students\"].map(\"{:,}\".format)\n",
    "# results_schools_df[\"Total Budget\"]= results_schools_df[\"Total Budget\"].map(\"{:,}\".format)\n",
    "# results_schools_df[\"Budget per Student\"]= results_schools_df[\"Budget per Student\"].map(\"{:,}\".format)\n",
    "\n",
    "\n",
    "results_schools_df"
   ]
  },
  {
   "cell_type": "code",
   "execution_count": null,
   "metadata": {},
   "outputs": [],
   "source": []
  },
  {
   "cell_type": "markdown",
   "metadata": {},
   "source": [
    "## Top Performing Schools (By Passing Rate)"
   ]
  },
  {
   "cell_type": "markdown",
   "metadata": {},
   "source": [
    "* Sort and display the top five schools in overall passing rate"
   ]
  },
  {
   "cell_type": "code",
   "execution_count": 272,
   "metadata": {},
   "outputs": [
    {
     "data": {
      "text/html": [
       "<div>\n",
       "<style scoped>\n",
       "    .dataframe tbody tr th:only-of-type {\n",
       "        vertical-align: middle;\n",
       "    }\n",
       "\n",
       "    .dataframe tbody tr th {\n",
       "        vertical-align: top;\n",
       "    }\n",
       "\n",
       "    .dataframe thead th {\n",
       "        text-align: right;\n",
       "    }\n",
       "</style>\n",
       "<table border=\"1\" class=\"dataframe\">\n",
       "  <thead>\n",
       "    <tr style=\"text-align: right;\">\n",
       "      <th></th>\n",
       "      <th>Total Schools</th>\n",
       "      <th>Total Students</th>\n",
       "      <th>Total Budget</th>\n",
       "      <th>Budget per Student</th>\n",
       "      <th>Average Math Score</th>\n",
       "      <th>Average Reading Score</th>\n",
       "      <th>% Passing Math</th>\n",
       "      <th>% Passing Reading</th>\n",
       "      <th>Overall Passing Rate</th>\n",
       "    </tr>\n",
       "  </thead>\n",
       "  <tbody>\n",
       "    <tr>\n",
       "      <th>Cabrera High School</th>\n",
       "      <td>Charter</td>\n",
       "      <td>1858</td>\n",
       "      <td>1081356.0</td>\n",
       "      <td>582.0</td>\n",
       "      <td>83.061895</td>\n",
       "      <td>83.975780</td>\n",
       "      <td>%94.13</td>\n",
       "      <td>%97.04</td>\n",
       "      <td>95.586652</td>\n",
       "    </tr>\n",
       "    <tr>\n",
       "      <th>Thomas High School</th>\n",
       "      <td>Charter</td>\n",
       "      <td>1635</td>\n",
       "      <td>1043130.0</td>\n",
       "      <td>638.0</td>\n",
       "      <td>83.418349</td>\n",
       "      <td>83.848930</td>\n",
       "      <td>%93.27</td>\n",
       "      <td>%97.31</td>\n",
       "      <td>95.290520</td>\n",
       "    </tr>\n",
       "    <tr>\n",
       "      <th>Pena High School</th>\n",
       "      <td>Charter</td>\n",
       "      <td>962</td>\n",
       "      <td>585858.0</td>\n",
       "      <td>609.0</td>\n",
       "      <td>83.839917</td>\n",
       "      <td>84.044699</td>\n",
       "      <td>%94.59</td>\n",
       "      <td>%95.95</td>\n",
       "      <td>95.270270</td>\n",
       "    </tr>\n",
       "    <tr>\n",
       "      <th>Griffin High School</th>\n",
       "      <td>Charter</td>\n",
       "      <td>1468</td>\n",
       "      <td>917500.0</td>\n",
       "      <td>625.0</td>\n",
       "      <td>83.351499</td>\n",
       "      <td>83.816757</td>\n",
       "      <td>%93.39</td>\n",
       "      <td>%97.14</td>\n",
       "      <td>95.265668</td>\n",
       "    </tr>\n",
       "    <tr>\n",
       "      <th>Wilson High School</th>\n",
       "      <td>Charter</td>\n",
       "      <td>2283</td>\n",
       "      <td>1319574.0</td>\n",
       "      <td>578.0</td>\n",
       "      <td>83.274201</td>\n",
       "      <td>83.989488</td>\n",
       "      <td>%93.87</td>\n",
       "      <td>%96.54</td>\n",
       "      <td>95.203679</td>\n",
       "    </tr>\n",
       "  </tbody>\n",
       "</table>\n",
       "</div>"
      ],
      "text/plain": [
       "                    Total Schools  Total Students  Total Budget  \\\n",
       "Cabrera High School       Charter            1858     1081356.0   \n",
       "Thomas High School        Charter            1635     1043130.0   \n",
       "Pena High School          Charter             962      585858.0   \n",
       "Griffin High School       Charter            1468      917500.0   \n",
       "Wilson High School        Charter            2283     1319574.0   \n",
       "\n",
       "                     Budget per Student  Average Math Score  \\\n",
       "Cabrera High School               582.0           83.061895   \n",
       "Thomas High School                638.0           83.418349   \n",
       "Pena High School                  609.0           83.839917   \n",
       "Griffin High School               625.0           83.351499   \n",
       "Wilson High School                578.0           83.274201   \n",
       "\n",
       "                     Average Reading Score % Passing Math % Passing Reading  \\\n",
       "Cabrera High School              83.975780         %94.13            %97.04   \n",
       "Thomas High School               83.848930         %93.27            %97.31   \n",
       "Pena High School                 84.044699         %94.59            %95.95   \n",
       "Griffin High School              83.816757         %93.39            %97.14   \n",
       "Wilson High School               83.989488         %93.87            %96.54   \n",
       "\n",
       "                     Overall Passing Rate  \n",
       "Cabrera High School             95.586652  \n",
       "Thomas High School              95.290520  \n",
       "Pena High School                95.270270  \n",
       "Griffin High School             95.265668  \n",
       "Wilson High School              95.203679  "
      ]
     },
     "execution_count": 272,
     "metadata": {},
     "output_type": "execute_result"
    }
   ],
   "source": [
    "#the top five schools in overall passing rate\n",
    "\n",
    "top_schools_df = results_schools_df.sort_values(\"Overall Passing Rate\", ascending = False)\n",
    "\n",
    "top_schools_df.head()"
   ]
  },
  {
   "cell_type": "markdown",
   "metadata": {},
   "source": [
    "## Bottom Performing Schools (By Passing Rate)"
   ]
  },
  {
   "cell_type": "markdown",
   "metadata": {},
   "source": [
    "* Sort and display the five worst-performing schools"
   ]
  },
  {
   "cell_type": "code",
   "execution_count": 273,
   "metadata": {},
   "outputs": [
    {
     "data": {
      "text/html": [
       "<div>\n",
       "<style scoped>\n",
       "    .dataframe tbody tr th:only-of-type {\n",
       "        vertical-align: middle;\n",
       "    }\n",
       "\n",
       "    .dataframe tbody tr th {\n",
       "        vertical-align: top;\n",
       "    }\n",
       "\n",
       "    .dataframe thead th {\n",
       "        text-align: right;\n",
       "    }\n",
       "</style>\n",
       "<table border=\"1\" class=\"dataframe\">\n",
       "  <thead>\n",
       "    <tr style=\"text-align: right;\">\n",
       "      <th></th>\n",
       "      <th>Total Schools</th>\n",
       "      <th>Total Students</th>\n",
       "      <th>Total Budget</th>\n",
       "      <th>Budget per Student</th>\n",
       "      <th>Average Math Score</th>\n",
       "      <th>Average Reading Score</th>\n",
       "      <th>% Passing Math</th>\n",
       "      <th>% Passing Reading</th>\n",
       "      <th>Overall Passing Rate</th>\n",
       "    </tr>\n",
       "  </thead>\n",
       "  <tbody>\n",
       "    <tr>\n",
       "      <th>Rodriguez High School</th>\n",
       "      <td>District</td>\n",
       "      <td>3999</td>\n",
       "      <td>2547363.0</td>\n",
       "      <td>637.0</td>\n",
       "      <td>76.842711</td>\n",
       "      <td>80.744686</td>\n",
       "      <td>%66.37</td>\n",
       "      <td>%80.22</td>\n",
       "      <td>73.293323</td>\n",
       "    </tr>\n",
       "    <tr>\n",
       "      <th>Figueroa High School</th>\n",
       "      <td>District</td>\n",
       "      <td>2949</td>\n",
       "      <td>1884411.0</td>\n",
       "      <td>639.0</td>\n",
       "      <td>76.711767</td>\n",
       "      <td>81.158020</td>\n",
       "      <td>%65.99</td>\n",
       "      <td>%80.74</td>\n",
       "      <td>73.363852</td>\n",
       "    </tr>\n",
       "    <tr>\n",
       "      <th>Huang High School</th>\n",
       "      <td>District</td>\n",
       "      <td>2917</td>\n",
       "      <td>1910635.0</td>\n",
       "      <td>655.0</td>\n",
       "      <td>76.629414</td>\n",
       "      <td>81.182722</td>\n",
       "      <td>%65.68</td>\n",
       "      <td>%81.32</td>\n",
       "      <td>73.500171</td>\n",
       "    </tr>\n",
       "    <tr>\n",
       "      <th>Johnson High School</th>\n",
       "      <td>District</td>\n",
       "      <td>4761</td>\n",
       "      <td>3094650.0</td>\n",
       "      <td>650.0</td>\n",
       "      <td>77.072464</td>\n",
       "      <td>80.966394</td>\n",
       "      <td>%66.06</td>\n",
       "      <td>%81.22</td>\n",
       "      <td>73.639992</td>\n",
       "    </tr>\n",
       "    <tr>\n",
       "      <th>Ford High School</th>\n",
       "      <td>District</td>\n",
       "      <td>2739</td>\n",
       "      <td>1763916.0</td>\n",
       "      <td>644.0</td>\n",
       "      <td>77.102592</td>\n",
       "      <td>80.746258</td>\n",
       "      <td>%68.31</td>\n",
       "      <td>%79.30</td>\n",
       "      <td>73.804308</td>\n",
       "    </tr>\n",
       "  </tbody>\n",
       "</table>\n",
       "</div>"
      ],
      "text/plain": [
       "                      Total Schools  Total Students  Total Budget  \\\n",
       "Rodriguez High School      District            3999     2547363.0   \n",
       "Figueroa High School       District            2949     1884411.0   \n",
       "Huang High School          District            2917     1910635.0   \n",
       "Johnson High School        District            4761     3094650.0   \n",
       "Ford High School           District            2739     1763916.0   \n",
       "\n",
       "                       Budget per Student  Average Math Score  \\\n",
       "Rodriguez High School               637.0           76.842711   \n",
       "Figueroa High School                639.0           76.711767   \n",
       "Huang High School                   655.0           76.629414   \n",
       "Johnson High School                 650.0           77.072464   \n",
       "Ford High School                    644.0           77.102592   \n",
       "\n",
       "                       Average Reading Score % Passing Math % Passing Reading  \\\n",
       "Rodriguez High School              80.744686         %66.37            %80.22   \n",
       "Figueroa High School               81.158020         %65.99            %80.74   \n",
       "Huang High School                  81.182722         %65.68            %81.32   \n",
       "Johnson High School                80.966394         %66.06            %81.22   \n",
       "Ford High School                   80.746258         %68.31            %79.30   \n",
       "\n",
       "                       Overall Passing Rate  \n",
       "Rodriguez High School             73.293323  \n",
       "Figueroa High School              73.363852  \n",
       "Huang High School                 73.500171  \n",
       "Johnson High School               73.639992  \n",
       "Ford High School                  73.804308  "
      ]
     },
     "execution_count": 273,
     "metadata": {},
     "output_type": "execute_result"
    }
   ],
   "source": [
    "#the worst five schools in overall passing rate\n",
    "\n",
    "bottom_schools_df = results_schools_df.sort_values(\"Overall Passing Rate\")\n",
    "bottom_schools_df.head()\n"
   ]
  },
  {
   "cell_type": "markdown",
   "metadata": {
    "collapsed": true
   },
   "source": [
    "## Math Scores by Grade"
   ]
  },
  {
   "cell_type": "markdown",
   "metadata": {},
   "source": [
    "* Create a table that lists the average Reading Score for students of each grade level (9th, 10th, 11th, 12th) at each school.\n",
    "\n",
    "  * Create a pandas series for each grade. Hint: use a conditional statement.\n",
    "  \n",
    "  * Group each series by school\n",
    "  \n",
    "  * Combine the series into a dataframe\n",
    "  \n",
    "  * Optional: give the displayed data cleaner formatting"
   ]
  },
  {
   "cell_type": "code",
   "execution_count": 274,
   "metadata": {},
   "outputs": [],
   "source": [
    "#Create a pandas series for each grade. Hint: use a conditional statement.\n",
    "\n",
    "ninth_grade= school_merge_rn_df[(school_merge_rn_df[\"Grade\"] == \"9th\")]\n",
    "tenth_grade= school_merge_rn_df[(school_merge_rn_df[\"Grade\"] == \"10th\")]\n",
    "eleventh_grade= school_merge_rn_df[(school_merge_rn_df[\"Grade\"] == \"11th\")]\n",
    "twelfth_grade= school_merge_rn_df[(school_merge_rn_df[\"Grade\"] == \"12th\")]\n"
   ]
  },
  {
   "cell_type": "code",
   "execution_count": 275,
   "metadata": {},
   "outputs": [],
   "source": [
    "# Group each series by school\n",
    "\n",
    "ninth_scores = ninth_grade.groupby(\"School Name\")[\"Math Score\"].mean()\n",
    "tenth_scores = tenth_grade.groupby(\"School Name\")[\"Math Score\"].mean()\n",
    "eleventh_scores = eleventh_grade.groupby(\"School Name\")[\"Math Score\"].mean()\n",
    "twelfth_scores = twelfth_grade.groupby(\"School Name\")[\"Math Score\"].mean()"
   ]
  },
  {
   "cell_type": "code",
   "execution_count": 276,
   "metadata": {},
   "outputs": [
    {
     "data": {
      "text/html": [
       "<div>\n",
       "<style scoped>\n",
       "    .dataframe tbody tr th:only-of-type {\n",
       "        vertical-align: middle;\n",
       "    }\n",
       "\n",
       "    .dataframe tbody tr th {\n",
       "        vertical-align: top;\n",
       "    }\n",
       "\n",
       "    .dataframe thead th {\n",
       "        text-align: right;\n",
       "    }\n",
       "</style>\n",
       "<table border=\"1\" class=\"dataframe\">\n",
       "  <thead>\n",
       "    <tr style=\"text-align: right;\">\n",
       "      <th></th>\n",
       "      <th>9th</th>\n",
       "      <th>10th</th>\n",
       "      <th>11th</th>\n",
       "      <th>12th</th>\n",
       "    </tr>\n",
       "    <tr>\n",
       "      <th>School Name</th>\n",
       "      <th></th>\n",
       "      <th></th>\n",
       "      <th></th>\n",
       "      <th></th>\n",
       "    </tr>\n",
       "  </thead>\n",
       "  <tbody>\n",
       "    <tr>\n",
       "      <th>Bailey High School</th>\n",
       "      <td>77.08</td>\n",
       "      <td>77.00</td>\n",
       "      <td>77.52</td>\n",
       "      <td>76.49</td>\n",
       "    </tr>\n",
       "    <tr>\n",
       "      <th>Cabrera High School</th>\n",
       "      <td>83.09</td>\n",
       "      <td>83.15</td>\n",
       "      <td>82.77</td>\n",
       "      <td>83.28</td>\n",
       "    </tr>\n",
       "    <tr>\n",
       "      <th>Figueroa High School</th>\n",
       "      <td>76.40</td>\n",
       "      <td>76.54</td>\n",
       "      <td>76.88</td>\n",
       "      <td>77.15</td>\n",
       "    </tr>\n",
       "    <tr>\n",
       "      <th>Ford High School</th>\n",
       "      <td>77.36</td>\n",
       "      <td>77.67</td>\n",
       "      <td>76.92</td>\n",
       "      <td>76.18</td>\n",
       "    </tr>\n",
       "    <tr>\n",
       "      <th>Griffin High School</th>\n",
       "      <td>82.04</td>\n",
       "      <td>84.23</td>\n",
       "      <td>83.84</td>\n",
       "      <td>83.36</td>\n",
       "    </tr>\n",
       "  </tbody>\n",
       "</table>\n",
       "</div>"
      ],
      "text/plain": [
       "                        9th   10th   11th   12th\n",
       "School Name                                     \n",
       "Bailey High School    77.08  77.00  77.52  76.49\n",
       "Cabrera High School   83.09  83.15  82.77  83.28\n",
       "Figueroa High School  76.40  76.54  76.88  77.15\n",
       "Ford High School      77.36  77.67  76.92  76.18\n",
       "Griffin High School   82.04  84.23  83.84  83.36"
      ]
     },
     "execution_count": 276,
     "metadata": {},
     "output_type": "execute_result"
    }
   ],
   "source": [
    "# Combine the series into a dataframe\n",
    "math_scores_by_grade_df = pd.DataFrame({\n",
    "    \"9th\" : round(ninth_scores,2),\n",
    "    \"10th\" : round(tenth_scores,2),\n",
    "    \"11th\" : round(eleventh_scores,2),\n",
    "    \"12th\" : round(twelfth_scores,2)\n",
    "    \n",
    "})\n",
    "\n",
    "math_scores_by_grade_df.head()"
   ]
  },
  {
   "cell_type": "code",
   "execution_count": null,
   "metadata": {},
   "outputs": [],
   "source": []
  },
  {
   "cell_type": "markdown",
   "metadata": {},
   "source": [
    "## Reading Score by Grade "
   ]
  },
  {
   "cell_type": "markdown",
   "metadata": {},
   "source": [
    "* Perform the same operations as above for reading scores"
   ]
  },
  {
   "cell_type": "code",
   "execution_count": 277,
   "metadata": {},
   "outputs": [],
   "source": [
    "#Create a pandas series for each grade. Hint: use a conditional statement.\n",
    "\n",
    "ninth_grade_reading= school_merge_rn_df[(school_merge_rn_df[\"Grade\"] == \"9th\")]\n",
    "tenth_grade_reading= school_merge_rn_df[(school_merge_rn_df[\"Grade\"] == \"10th\")]\n",
    "eleventh_grade_reading= school_merge_rn_df[(school_merge_rn_df[\"Grade\"] == \"11th\")]\n",
    "twelfth_grade_reading= school_merge_rn_df[(school_merge_rn_df[\"Grade\"] == \"12th\")]"
   ]
  },
  {
   "cell_type": "code",
   "execution_count": 278,
   "metadata": {},
   "outputs": [],
   "source": [
    "# Group each series by school\n",
    "\n",
    "ninth_scores_reading = ninth_grade.groupby(\"School Name\")[\"Reading Score\"].mean()\n",
    "tenth_scores_reading = tenth_grade.groupby(\"School Name\")[\"Reading Score\"].mean()\n",
    "eleventh_scores_reading = eleventh_grade.groupby(\"School Name\")[\"Reading Score\"].mean()\n",
    "twelfth_scores_reading = twelfth_grade.groupby(\"School Name\")[\"Reading Score\"].mean()"
   ]
  },
  {
   "cell_type": "code",
   "execution_count": 279,
   "metadata": {},
   "outputs": [
    {
     "data": {
      "text/html": [
       "<div>\n",
       "<style scoped>\n",
       "    .dataframe tbody tr th:only-of-type {\n",
       "        vertical-align: middle;\n",
       "    }\n",
       "\n",
       "    .dataframe tbody tr th {\n",
       "        vertical-align: top;\n",
       "    }\n",
       "\n",
       "    .dataframe thead th {\n",
       "        text-align: right;\n",
       "    }\n",
       "</style>\n",
       "<table border=\"1\" class=\"dataframe\">\n",
       "  <thead>\n",
       "    <tr style=\"text-align: right;\">\n",
       "      <th></th>\n",
       "      <th>9th</th>\n",
       "      <th>10th</th>\n",
       "      <th>11th</th>\n",
       "      <th>12th</th>\n",
       "    </tr>\n",
       "    <tr>\n",
       "      <th>School Name</th>\n",
       "      <th></th>\n",
       "      <th></th>\n",
       "      <th></th>\n",
       "      <th></th>\n",
       "    </tr>\n",
       "  </thead>\n",
       "  <tbody>\n",
       "    <tr>\n",
       "      <th>Bailey High School</th>\n",
       "      <td>81.30</td>\n",
       "      <td>80.91</td>\n",
       "      <td>80.95</td>\n",
       "      <td>80.91</td>\n",
       "    </tr>\n",
       "    <tr>\n",
       "      <th>Cabrera High School</th>\n",
       "      <td>83.68</td>\n",
       "      <td>84.25</td>\n",
       "      <td>83.79</td>\n",
       "      <td>84.29</td>\n",
       "    </tr>\n",
       "    <tr>\n",
       "      <th>Figueroa High School</th>\n",
       "      <td>81.20</td>\n",
       "      <td>81.41</td>\n",
       "      <td>80.64</td>\n",
       "      <td>81.38</td>\n",
       "    </tr>\n",
       "    <tr>\n",
       "      <th>Ford High School</th>\n",
       "      <td>80.63</td>\n",
       "      <td>81.26</td>\n",
       "      <td>80.40</td>\n",
       "      <td>80.66</td>\n",
       "    </tr>\n",
       "    <tr>\n",
       "      <th>Griffin High School</th>\n",
       "      <td>83.37</td>\n",
       "      <td>83.71</td>\n",
       "      <td>84.29</td>\n",
       "      <td>84.01</td>\n",
       "    </tr>\n",
       "  </tbody>\n",
       "</table>\n",
       "</div>"
      ],
      "text/plain": [
       "                        9th   10th   11th   12th\n",
       "School Name                                     \n",
       "Bailey High School    81.30  80.91  80.95  80.91\n",
       "Cabrera High School   83.68  84.25  83.79  84.29\n",
       "Figueroa High School  81.20  81.41  80.64  81.38\n",
       "Ford High School      80.63  81.26  80.40  80.66\n",
       "Griffin High School   83.37  83.71  84.29  84.01"
      ]
     },
     "execution_count": 279,
     "metadata": {},
     "output_type": "execute_result"
    }
   ],
   "source": [
    "# Combine the series into a dataframe\n",
    "reading_scores_by_grade_df = pd.DataFrame({\n",
    "    \"9th\" : round(ninth_scores_reading,2),\n",
    "    \"10th\" : round(tenth_scores_reading,2),\n",
    "    \"11th\" : round(eleventh_scores_reading,2),\n",
    "    \"12th\" : round(twelfth_scores_reading,2),\n",
    "    \n",
    "})\n",
    "\n",
    "reading_scores_by_grade_df.head()"
   ]
  },
  {
   "cell_type": "code",
   "execution_count": 213,
   "metadata": {},
   "outputs": [],
   "source": [
    "# se puede definir una funcion ya que hacemos lo mismo para reading y para math, solo que se reciben datos de una materia diferente\n",
    "#en este caso solo lo hacemos para matematicas y para lectura, pero si lo hacemos para mas materias si conviene definir la funcion."
   ]
  },
  {
   "cell_type": "markdown",
   "metadata": {},
   "source": [
    "## Scores by School Spending"
   ]
  },
  {
   "cell_type": "markdown",
   "metadata": {},
   "source": [
    "* Create a table that breaks down school performances based on average Spending Ranges (Per Student). Use 4 reasonable bins to group school spending. Include in the table each of the following:\n",
    "  * Average Math Score\n",
    "  * Average Reading Score\n",
    "  * % Passing Math\n",
    "  * % Passing Reading\n",
    "  * Overall Passing Rate (Average of the above two)"
   ]
  },
  {
   "cell_type": "code",
   "execution_count": null,
   "metadata": {},
   "outputs": [],
   "source": []
  },
  {
   "cell_type": "code",
   "execution_count": 280,
   "metadata": {},
   "outputs": [
    {
     "data": {
      "text/plain": [
       "578.0"
      ]
     },
     "execution_count": 280,
     "metadata": {},
     "output_type": "execute_result"
    }
   ],
   "source": [
    "# lets see the min budget per student\n",
    "min_budget_student = results_schools_df[\"Budget per Student\"].min\n",
    "min_budget_student()"
   ]
  },
  {
   "cell_type": "code",
   "execution_count": 281,
   "metadata": {},
   "outputs": [
    {
     "data": {
      "text/plain": [
       "655.0"
      ]
     },
     "execution_count": 281,
     "metadata": {},
     "output_type": "execute_result"
    }
   ],
   "source": [
    "# lets see the max budget per student\n",
    "max_budget_student = results_schools_df[\"Budget per Student\"].max\n",
    "max_budget_student()"
   ]
  },
  {
   "cell_type": "code",
   "execution_count": 282,
   "metadata": {},
   "outputs": [],
   "source": [
    "# knowing the range of the budget per students we will create the bins\n",
    "spending_bins = [0, 580, 600, 620, 640]\n",
    "group_names = [\"<$580\", \"$580-599\", \"$620-639\", \"$640-660\"]\n"
   ]
  },
  {
   "cell_type": "code",
   "execution_count": 286,
   "metadata": {},
   "outputs": [],
   "source": [
    "#place the data series into a new column inside of the dataframe.\n",
    "\n",
    "results_schools_df[\"Spending Ranges Per Student\"]= pd.cut(results_schools_df[\"Budget per Student\"],spending_bins, labels= group_names)\n",
    "budget_bins_group = results_schools_df.groupby(\"Spending Ranges Per Student\")\n",
    "#print(budget_bins_group[\"Budget per Student\"].count())\n"
   ]
  },
  {
   "cell_type": "code",
   "execution_count": 287,
   "metadata": {},
   "outputs": [
    {
     "data": {
      "text/html": [
       "<div>\n",
       "<style scoped>\n",
       "    .dataframe tbody tr th:only-of-type {\n",
       "        vertical-align: middle;\n",
       "    }\n",
       "\n",
       "    .dataframe tbody tr th {\n",
       "        vertical-align: top;\n",
       "    }\n",
       "\n",
       "    .dataframe thead th {\n",
       "        text-align: right;\n",
       "    }\n",
       "</style>\n",
       "<table border=\"1\" class=\"dataframe\">\n",
       "  <thead>\n",
       "    <tr style=\"text-align: right;\">\n",
       "      <th></th>\n",
       "      <th>Average Math Score</th>\n",
       "      <th>Average Reading Score</th>\n",
       "      <th>Overall Passing Rate</th>\n",
       "    </tr>\n",
       "    <tr>\n",
       "      <th>Spending Ranges Per Student</th>\n",
       "      <th></th>\n",
       "      <th></th>\n",
       "      <th></th>\n",
       "    </tr>\n",
       "  </thead>\n",
       "  <tbody>\n",
       "    <tr>\n",
       "      <th>&lt;$580</th>\n",
       "      <td>83.274201</td>\n",
       "      <td>83.989488</td>\n",
       "      <td>95.203679</td>\n",
       "    </tr>\n",
       "    <tr>\n",
       "      <th>$580-599</th>\n",
       "      <td>83.476713</td>\n",
       "      <td>83.867873</td>\n",
       "      <td>94.949785</td>\n",
       "    </tr>\n",
       "    <tr>\n",
       "      <th>$620-639</th>\n",
       "      <td>83.839917</td>\n",
       "      <td>84.044699</td>\n",
       "      <td>95.270270</td>\n",
       "    </tr>\n",
       "    <tr>\n",
       "      <th>$640-660</th>\n",
       "      <td>79.474551</td>\n",
       "      <td>82.120471</td>\n",
       "      <td>82.304007</td>\n",
       "    </tr>\n",
       "  </tbody>\n",
       "</table>\n",
       "</div>"
      ],
      "text/plain": [
       "                             Average Math Score  Average Reading Score  \\\n",
       "Spending Ranges Per Student                                              \n",
       "<$580                                 83.274201              83.989488   \n",
       "$580-599                              83.476713              83.867873   \n",
       "$620-639                              83.839917              84.044699   \n",
       "$640-660                              79.474551              82.120471   \n",
       "\n",
       "                             Overall Passing Rate  \n",
       "Spending Ranges Per Student                        \n",
       "<$580                                   95.203679  \n",
       "$580-599                                94.949785  \n",
       "$620-639                                95.270270  \n",
       "$640-660                                82.304007  "
      ]
     },
     "execution_count": 287,
     "metadata": {},
     "output_type": "execute_result"
    }
   ],
   "source": [
    "# get the average of each column within the groupby object\n",
    "\n",
    "budget_bins_group[[\"Average Math Score\",\"Average Reading Score\",\"% Passing Math\",\"% Passing Reading\",\"Overall Passing Rate\"]].mean()"
   ]
  },
  {
   "cell_type": "code",
   "execution_count": 219,
   "metadata": {},
   "outputs": [],
   "source": [
    "# esta se puede borrar es la del ejemplo"
   ]
  },
  {
   "cell_type": "markdown",
   "metadata": {},
   "source": [
    "## Scores by School Size"
   ]
  },
  {
   "cell_type": "markdown",
   "metadata": {},
   "source": [
    "* Perform the same operations as above, based on school size."
   ]
  },
  {
   "cell_type": "code",
   "execution_count": 220,
   "metadata": {},
   "outputs": [],
   "source": [
    "# Sample bins. Feel free to create your own bins.\n",
    "# size_bins = [0, 1000, 2000, 5000]\n",
    "# group_names = [\"Small (<1000)\", \"Medium (1000-2000)\", \"Large (2000-5000)\"]"
   ]
  },
  {
   "cell_type": "code",
   "execution_count": 288,
   "metadata": {},
   "outputs": [
    {
     "data": {
      "text/plain": [
       "427"
      ]
     },
     "execution_count": 288,
     "metadata": {},
     "output_type": "execute_result"
    }
   ],
   "source": [
    "# lets see the min budget per student\n",
    "\n",
    "min_total_student = results_schools_df[\"Total Students\"].min\n",
    "min_total_student()"
   ]
  },
  {
   "cell_type": "code",
   "execution_count": 289,
   "metadata": {},
   "outputs": [
    {
     "data": {
      "text/plain": [
       "4976"
      ]
     },
     "execution_count": 289,
     "metadata": {},
     "output_type": "execute_result"
    }
   ],
   "source": [
    "# lets see the max budget per student\n",
    "\n",
    "max_total_student = results_schools_df[\"Total Students\"].max\n",
    "max_total_student()"
   ]
  },
  {
   "cell_type": "code",
   "execution_count": 290,
   "metadata": {},
   "outputs": [
    {
     "data": {
      "text/html": [
       "<div>\n",
       "<style scoped>\n",
       "    .dataframe tbody tr th:only-of-type {\n",
       "        vertical-align: middle;\n",
       "    }\n",
       "\n",
       "    .dataframe tbody tr th {\n",
       "        vertical-align: top;\n",
       "    }\n",
       "\n",
       "    .dataframe thead th {\n",
       "        text-align: right;\n",
       "    }\n",
       "</style>\n",
       "<table border=\"1\" class=\"dataframe\">\n",
       "  <thead>\n",
       "    <tr style=\"text-align: right;\">\n",
       "      <th></th>\n",
       "      <th>Average Math Score</th>\n",
       "      <th>Average Reading Score</th>\n",
       "      <th>Overall Passing Rate</th>\n",
       "    </tr>\n",
       "    <tr>\n",
       "      <th>School Size</th>\n",
       "      <th></th>\n",
       "      <th></th>\n",
       "      <th></th>\n",
       "    </tr>\n",
       "  </thead>\n",
       "  <tbody>\n",
       "    <tr>\n",
       "      <th>Small (&lt;1000)</th>\n",
       "      <td>83.821598</td>\n",
       "      <td>83.929843</td>\n",
       "      <td>94.824831</td>\n",
       "    </tr>\n",
       "    <tr>\n",
       "      <th>Medium (1000-2000)</th>\n",
       "      <td>83.374684</td>\n",
       "      <td>83.864438</td>\n",
       "      <td>95.195187</td>\n",
       "    </tr>\n",
       "    <tr>\n",
       "      <th>Large (2000-5000)</th>\n",
       "      <td>77.746417</td>\n",
       "      <td>81.344493</td>\n",
       "      <td>76.364998</td>\n",
       "    </tr>\n",
       "  </tbody>\n",
       "</table>\n",
       "</div>"
      ],
      "text/plain": [
       "                    Average Math Score  Average Reading Score  \\\n",
       "School Size                                                     \n",
       "Small (<1000)                83.821598              83.929843   \n",
       "Medium (1000-2000)           83.374684              83.864438   \n",
       "Large (2000-5000)            77.746417              81.344493   \n",
       "\n",
       "                    Overall Passing Rate  \n",
       "School Size                               \n",
       "Small (<1000)                  94.824831  \n",
       "Medium (1000-2000)             95.195187  \n",
       "Large (2000-5000)              76.364998  "
      ]
     },
     "execution_count": 290,
     "metadata": {},
     "output_type": "execute_result"
    }
   ],
   "source": [
    "#place the data series into a new column inside of the dataframe.\n",
    "\n",
    "size_bins = [0, 1000, 2000, 5000]\n",
    "group_size = [\"Small (<1000)\", \"Medium (1000-2000)\", \"Large (2000-5000)\"]\n",
    "results_schools_df[\"School Size\"]= pd.cut(results_schools_df[\"Total Students\"], size_bins, labels= group_size)\n",
    "size_bins_group = results_schools_df.groupby(\"School Size\")\n",
    "size_bins_group.head()\n",
    "size_bins_group[[\"Average Math Score\",\"Average Reading Score\",\"% Passing Math\",\"% Passing Reading\",\"Overall Passing Rate\"]].mean()"
   ]
  },
  {
   "cell_type": "code",
   "execution_count": null,
   "metadata": {
    "scrolled": true
   },
   "outputs": [],
   "source": []
  },
  {
   "cell_type": "markdown",
   "metadata": {},
   "source": [
    "## Scores by School Type"
   ]
  },
  {
   "cell_type": "markdown",
   "metadata": {},
   "source": [
    "* Perform the same operations as above, based on school type."
   ]
  },
  {
   "cell_type": "code",
   "execution_count": 291,
   "metadata": {},
   "outputs": [
    {
     "data": {
      "text/html": [
       "<div>\n",
       "<style scoped>\n",
       "    .dataframe tbody tr th:only-of-type {\n",
       "        vertical-align: middle;\n",
       "    }\n",
       "\n",
       "    .dataframe tbody tr th {\n",
       "        vertical-align: top;\n",
       "    }\n",
       "\n",
       "    .dataframe thead th {\n",
       "        text-align: right;\n",
       "    }\n",
       "</style>\n",
       "<table border=\"1\" class=\"dataframe\">\n",
       "  <thead>\n",
       "    <tr style=\"text-align: right;\">\n",
       "      <th></th>\n",
       "      <th>Average Math Score</th>\n",
       "      <th>Average Reading Score</th>\n",
       "      <th>Overall Passing Rate</th>\n",
       "    </tr>\n",
       "    <tr>\n",
       "      <th>Total Schools</th>\n",
       "      <th></th>\n",
       "      <th></th>\n",
       "      <th></th>\n",
       "    </tr>\n",
       "  </thead>\n",
       "  <tbody>\n",
       "    <tr>\n",
       "      <th>Charter</th>\n",
       "      <td>83.473852</td>\n",
       "      <td>83.896421</td>\n",
       "      <td>95.103660</td>\n",
       "    </tr>\n",
       "    <tr>\n",
       "      <th>District</th>\n",
       "      <td>76.956733</td>\n",
       "      <td>80.966636</td>\n",
       "      <td>73.673757</td>\n",
       "    </tr>\n",
       "  </tbody>\n",
       "</table>\n",
       "</div>"
      ],
      "text/plain": [
       "               Average Math Score  Average Reading Score  Overall Passing Rate\n",
       "Total Schools                                                                 \n",
       "Charter                 83.473852              83.896421             95.103660\n",
       "District                76.956733              80.966636             73.673757"
      ]
     },
     "execution_count": 291,
     "metadata": {},
     "output_type": "execute_result"
    }
   ],
   "source": [
    "# Scores by school type.\n",
    "size_bins_group = results_schools_df.groupby(\"Total Schools\")\n",
    "size_bins_group[[\"Average Math Score\",\"Average Reading Score\",\"% Passing Math\",\"% Passing Reading\",\"Overall Passing Rate\"]].mean()"
   ]
  },
  {
   "cell_type": "code",
   "execution_count": null,
   "metadata": {},
   "outputs": [],
   "source": [
    "# Carolina Muizzi "
   ]
  }
 ],
 "metadata": {
  "anaconda-cloud": {},
  "kernel_info": {
   "name": "python3"
  },
  "kernelspec": {
   "display_name": "Python 3",
   "language": "python",
   "name": "python3"
  },
  "language_info": {
   "codemirror_mode": {
    "name": "ipython",
    "version": 3
   },
   "file_extension": ".py",
   "mimetype": "text/x-python",
   "name": "python",
   "nbconvert_exporter": "python",
   "pygments_lexer": "ipython3",
   "version": "3.7.1"
  },
  "nteract": {
   "version": "0.8.4"
  }
 },
 "nbformat": 4,
 "nbformat_minor": 1
}
